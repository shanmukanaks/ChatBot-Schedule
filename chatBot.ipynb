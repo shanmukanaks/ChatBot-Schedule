{
 "cells": [
  {
   "cell_type": "markdown",
   "id": "cbd8ac88",
   "metadata": {},
   "source": [
    "# Imports"
   ]
  },
  {
   "cell_type": "code",
   "execution_count": 1,
   "id": "970137e7",
   "metadata": {},
   "outputs": [],
   "source": [
    "from __future__ import print_function\n",
    "import datetime\n",
    "import pickle\n",
    "import os.path\n",
    "from googleapiclient.discovery import build\n",
    "from google_auth_oauthlib.flow import InstalledAppFlow\n",
    "from google.auth.transport.requests import Request\n",
    "import time\n",
    "import pyttsx3\n",
    "import speech_recognition as sr\n",
    "import pytz\n",
    "import random\n",
    "import json\n",
    "import pickle\n",
    "import numpy as np\n",
    "import nltk\n",
    "import spacy\n",
    "from spacy import displacy\n",
    "from nltk.stem import WordNetLemmatizer\n",
    "import re\n",
    "from nltk import word_tokenize\n",
    "import json\n",
    "from tensorflow.keras.models import load_model\n",
    "from nltk.tag.stanford import StanfordNERTagger\n",
    "import os"
   ]
  },
  {
   "cell_type": "code",
   "execution_count": 2,
   "id": "d7a620ed",
   "metadata": {},
   "outputs": [],
   "source": [
    "SCOPES = ['https://www.googleapis.com/auth/calendar.readonly']\n",
    "MONTHS = [\"january\", \"february\", \"march\", \"april\", \"may\", \"june\",\"july\", \"august\", \"september\",\"october\", \"november\", \"december\"]\n",
    "DAYS = [\"monday\", \"tuesday\", \"wednesday\", \"thursday\", \"friday\", \"saturday\", \"sunday\"]\n",
    "DAY_EXTENTIONS = [\"rd\", \"th\", \"st\", \"nd\"]"
   ]
  },
  {
   "cell_type": "markdown",
   "id": "3cfbd988",
   "metadata": {},
   "source": [
    "# def speak(text):"
   ]
  },
  {
   "cell_type": "markdown",
   "id": "5f618ee3",
   "metadata": {},
   "source": [
    "In this function, we will pass text to it and have it be spoken through the computer."
   ]
  },
  {
   "cell_type": "code",
   "execution_count": 3,
   "id": "e0be9db1",
   "metadata": {},
   "outputs": [],
   "source": [
    "def speak(text):\n",
    "    engine = pyttsx3.init()\n",
    "    engine.say(text)\n",
    "    engine.runAndWait()"
   ]
  },
  {
   "cell_type": "markdown",
   "id": "d3bd216b",
   "metadata": {},
   "source": [
    "# def get_audio():"
   ]
  },
  {
   "cell_type": "markdown",
   "id": "b7716ff4",
   "metadata": {},
   "source": [
    "In this function, we will get what the user is saying from their mic and convert that into a string."
   ]
  },
  {
   "cell_type": "code",
   "execution_count": 4,
   "id": "e8264575",
   "metadata": {},
   "outputs": [],
   "source": [
    "def get_audio():\n",
    "    r = sr.Recognizer()\n",
    "    with sr.Microphone() as source:\n",
    "        audio = r.listen(source)\n",
    "        said = \"\"\n",
    "        \n",
    "        try:\n",
    "            said = r.recognize_google(audio)\n",
    "            print(said)\n",
    "        except Exception as e:\n",
    "            print(\"Exception: \" + str(e))\n",
    "            \n",
    "    return said"
   ]
  },
  {
   "cell_type": "markdown",
   "id": "77d3d248",
   "metadata": {},
   "source": [
    "First we need to set up the google calendar api: https://developers.google.com/calendar/quickstart/python?authuser=3\n",
    "1) We will need to sign into a google account\n",
    "\n",
    "2) Enable the google calendar api\n",
    "\n",
    "3) Download the client configuration\n",
    "\n",
    "4) Put the client configuration in our working directory\n",
    "\n",
    "5) Install the google client library(in the website)"
   ]
  },
  {
   "cell_type": "markdown",
   "id": "82aaea98",
   "metadata": {},
   "source": [
    "# def authenticate_google(name):"
   ]
  },
  {
   "cell_type": "markdown",
   "id": "8d710ba3",
   "metadata": {},
   "source": [
    "What this function essentially does is it store your credentials locally, so everytime we run our program we don't need to keep signing in."
   ]
  },
  {
   "cell_type": "code",
   "execution_count": 5,
   "id": "bd2ca4dd",
   "metadata": {},
   "outputs": [],
   "source": [
    "def authenticate_google(name):\n",
    "    \"\"\"Shows basic usage of the Google Calendar API.\n",
    "    Prints the start and name of the next 10 events on the user's calendar.\n",
    "    \"\"\"\n",
    "    creds = None\n",
    "    # The file token.pickle stores the user's access and refresh tokens, and is\n",
    "    # created automatically when the authorization flow completes for the first\n",
    "    # time.\n",
    "    if os.path.exists(name + '.pickle'):\n",
    "        with open(name + '.pickle', 'rb') as token:\n",
    "            creds = pickle.load(token)\n",
    "    # If there are no (valid) credentials available, let the user log in.\n",
    "    if not creds or not creds.valid:\n",
    "        if creds and creds.expired and creds.refresh_token:\n",
    "            creds.refresh(Request())\n",
    "        else:\n",
    "            flow = InstalledAppFlow.from_client_secrets_file(\n",
    "                'credentials.json', SCOPES)\n",
    "            creds = flow.run_local_server(port=0)\n",
    "        # Save the credentials for the next run\n",
    "        with open(name + '.pickle', 'wb') as token:\n",
    "            pickle.dump(creds, token)\n",
    "\n",
    "    service = build('calendar', 'v3', credentials=creds)\n",
    "\n",
    "    return service"
   ]
  },
  {
   "cell_type": "markdown",
   "id": "24c4c455",
   "metadata": {},
   "source": [
    "# def get_events(day, service):"
   ]
  },
  {
   "cell_type": "markdown",
   "id": "7823f4ff",
   "metadata": {},
   "source": [
    "What this function does is it is able to return what events a user has for a particular day, by passing in two parameters which day we want to see the events for and the user data, so which user to we want to check the events for."
   ]
  },
  {
   "cell_type": "code",
   "execution_count": 6,
   "id": "1c3834ee",
   "metadata": {},
   "outputs": [],
   "source": [
    "def get_events(day, service):\n",
    "    \n",
    "    time_list = []\n",
    "    \n",
    "    date = datetime.datetime.combine(day, datetime.datetime.min.time())\n",
    "    end_date = datetime.datetime.combine(day, datetime.datetime.max.time())\n",
    "    utc = pytz.UTC\n",
    "    date = date.astimezone(utc)\n",
    "    end_date = end_date.astimezone(utc)\n",
    "\n",
    "    events_result = service.events().list(calendarId='primary', timeMin=date.isoformat(), timeMax=end_date.isoformat(),\n",
    "                                        singleEvents=True,\n",
    "                                        orderBy='startTime').execute()\n",
    "    events = events_result.get('items', [])\n",
    "\n",
    "    if not events:\n",
    "        speak('No upcoming events found.')\n",
    "    else:\n",
    "        speak(f\"You have {len(events)} events on this day.\")\n",
    "\n",
    "        for event in events:\n",
    "            start = event['start'].get('dateTime', event['start'].get('date'))\n",
    "            print(start, event['summary'])\n",
    "            start_time = str(start.split(\"T\")[1].split(\"-\")[0])  # get the hour the event starts\n",
    "            \n",
    "            end = event['end'].get('dateTime', event['end'].get('date'))\n",
    "            print(end, event['summary'])\n",
    "            end_time = str(end.split(\"T\")[1].split(\"-\")[0])  # get the hour the event starts\n",
    "            \n",
    "            time_list.append((start_time, end_time))\n",
    "            \n",
    "            if int(start_time.split(\":\")[0]) < 12:  # if the event is in the morning\n",
    "                start_time = start_time + \"am\"\n",
    "            else:\n",
    "                start_time = str(int(start_time.split(\":\")[0])-12)  # convert 24 hour time to regular\n",
    "                start_time = start_time + \"pm\"  \n",
    "                \n",
    "            \n",
    "            if int(end_time.split(\":\")[0]) < 12:  # if the event is in the morning\n",
    "                end_time = end_time + \"am\"\n",
    "            else:\n",
    "                end_time = str(int(end_time.split(\":\")[0])-12)  # convert 24 hour time to regular\n",
    "                end_time = end_time + \"pm\"  \n",
    "\n",
    "            speak(event[\"summary\"] + \" at \" + start_time + \" to \" + end_time)\n",
    "    \n",
    "    return time_list"
   ]
  },
  {
   "cell_type": "markdown",
   "id": "8762c4f3",
   "metadata": {},
   "source": [
    "# def get_date(text):"
   ]
  },
  {
   "cell_type": "markdown",
   "id": "fbe75efb",
   "metadata": {},
   "source": [
    "To figure out which date the user is talking about we first have to know what date it is today, for example if the user asks \"What do I have on Sunday\" and it is Friday meaning Sunday is two days from now we know that the user is asking about the Sunday 2 days from now. But if today is Sunday and the user is asking \"What do I have on Sunday\", then we assume that the user is probably asking about today so we return todays date. \n",
    "\n",
    "We also need to know which month it is, for example if the user is asking something about March, when the current month is December we can assume that they are talking about March in next year.\n",
    "\n",
    "We will also check whether the user gave a specific date, for example if the user asks \"What do I have on March 5th\", the we need to understand that they asking for a day in the month \"March\" and the day they are asking for is the \"5th\" of March."
   ]
  },
  {
   "cell_type": "code",
   "execution_count": 7,
   "id": "993bb3a5",
   "metadata": {},
   "outputs": [],
   "source": [
    "def get_date(text):\n",
    "    text = text.lower()\n",
    "    today = datetime.date.today()\n",
    "\n",
    "    if text.count(\"today\") > 0:\n",
    "        return today\n",
    "\n",
    "    day = -1\n",
    "    day_of_week = -1\n",
    "    month = -1\n",
    "    year = today.year\n",
    "\n",
    "    for word in text.split():\n",
    "        if word in MONTHS:\n",
    "            month = MONTHS.index(word) + 1\n",
    "        elif word in DAYS:\n",
    "            day_of_week = DAYS.index(word)\n",
    "        elif word.isdigit():\n",
    "            day = int(word)\n",
    "        else:\n",
    "            for ext in DAY_EXTENTIONS:\n",
    "                found = word.find(ext)\n",
    "                if found > 0:\n",
    "                    try:\n",
    "                        day = int(word[:found])\n",
    "                    except:\n",
    "                        pass\n",
    "\n",
    "    if month < today.month and month != -1:  # if the month mentioned is before the current month set the year to the next\n",
    "        year = year+1\n",
    "\n",
    "    if month == -1 and day != -1:  # if we didn't find a month, but we have a day\n",
    "        if day < today.day:\n",
    "            month = today.month + 1\n",
    "        else:\n",
    "            month = today.month\n",
    "\n",
    "    # if we only found a dta of the week\n",
    "    if month == -1 and day == -1 and day_of_week != -1:\n",
    "        current_day_of_week = today.weekday()\n",
    "        dif = day_of_week - current_day_of_week\n",
    "\n",
    "        if dif < 0:\n",
    "            dif += 7\n",
    "            if text.count(\"next\") >= 1:\n",
    "                dif += 7\n",
    "\n",
    "        return today + datetime.timedelta(dif)\n",
    "\n",
    "    if day != -1:\n",
    "        return datetime.date(month=month, day=day, year=year)"
   ]
  },
  {
   "cell_type": "markdown",
   "id": "a96befd0",
   "metadata": {},
   "source": [
    "# Log In:"
   ]
  },
  {
   "cell_type": "markdown",
   "id": "4fa1b033",
   "metadata": {},
   "source": [
    "Here we will asks our users to log in, we will prompt them asking how many users to add, for example if they wish to have two users we will ask them to authenticate two google accounts to allow us to get data from their google calendars.\n",
    "\n",
    "As of now, this program only supports two users."
   ]
  },
  {
   "cell_type": "code",
   "execution_count": 8,
   "id": "0cdf01dd",
   "metadata": {},
   "outputs": [
    {
     "name": "stdout",
     "output_type": "stream",
     "text": [
      "How many users: 2\n",
      "Please visit this URL to authorize this application: https://accounts.google.com/o/oauth2/auth?response_type=code&client_id=598525128995-nhrijth6nrlk5ik0eahcrgmrogfbh3te.apps.googleusercontent.com&redirect_uri=http%3A%2F%2Flocalhost%3A50346%2F&scope=https%3A%2F%2Fwww.googleapis.com%2Fauth%2Fcalendar.readonly&state=fZrRDY2vTAocyMk8Pyoq6snjEDwkDe&access_type=offline\n",
      "Please visit this URL to authorize this application: https://accounts.google.com/o/oauth2/auth?response_type=code&client_id=598525128995-nhrijth6nrlk5ik0eahcrgmrogfbh3te.apps.googleusercontent.com&redirect_uri=http%3A%2F%2Flocalhost%3A50355%2F&scope=https%3A%2F%2Fwww.googleapis.com%2Fauth%2Fcalendar.readonly&state=NNzLGcyExt7BaMnpvcgwfFqZUReplp&access_type=offline\n"
     ]
    }
   ],
   "source": [
    "userNum = int(input(\"How many users: \"))\n",
    "users = []\n",
    "id = 0\n",
    "\n",
    "for i in range(userNum):\n",
    "    service = authenticate_google(\"user_\" + str(id))\n",
    "    users.append(service)\n",
    "    id = id + 1"
   ]
  },
  {
   "cell_type": "code",
   "execution_count": 9,
   "id": "8d7f3830",
   "metadata": {},
   "outputs": [],
   "source": [
    "# timesBounds = []\n",
    "# for user in users:\n",
    "#     bounds = []\n",
    "#     speak(\"What are your morning bounds?\")\n",
    "#     mornBound = input(\"\")\n",
    "#     speak(\"What are your night bounds?\")\n",
    "#     nighBound = input(\"\")\n",
    "#     bounds.append(mornBound)\n",
    "#     bounds.append(nighBound)\n",
    "#     timesBounds.append(bounds)\n",
    "# print(timesBounds)"
   ]
  },
  {
   "cell_type": "markdown",
   "id": "2a0b0470",
   "metadata": {},
   "source": [
    "# ChatBot"
   ]
  },
  {
   "cell_type": "markdown",
   "id": "b07a7dc8",
   "metadata": {},
   "source": [
    "Here we will be using our model that we had built during training to build a chatbot, we will get input via voice from the user and based on what the model thinks the user is say we will reply adequately. What our model will do for us is it will label the statements the user is making and based on their statements the model will categorize it based on the tags we had implement in our intents json file. Based on what tag the model set the user input to be we can implement specific functionalities, such as, if the model determines that the user is trying to introduce themselves that would fall under the tag \"name\" and once we know that we can store the users name and greet them bye their name or address them by their name in later interactions. How we detect where the users name is in the statement they had inputed is by using something called spacy, spacy allows us to input a string to it and from that spacy is able to idetify what entities are in that string and if it identifies a person it will label that entity as a \"PERSON\" and we can find which word exactly is the users name and store that word. We can also use this when figuring out what day the user want to find their events for, if the user asks \"What do I have on Sunday\", \"Sunday will be classified as a \"DATE\" and by knowing this we can pass in this information to our get_events() function and figure out which events each user has on that date."
   ]
  },
  {
   "cell_type": "code",
   "execution_count": 10,
   "id": "0c397225",
   "metadata": {
    "scrolled": true
   },
   "outputs": [
    {
     "name": "stdout",
     "output_type": "stream",
     "text": [
      "hello\n",
      "Hello, how can I help?\n",
      "my name is Bobby\n",
      "Pleasure to meet you, Bobby\n",
      "what do I have on Saturday\n",
      "2021-04-10T14:00:00-05:00 Tech Team Meeting\n",
      "2021-04-10T14:30:00-05:00 Tech Team Meeting\n",
      "\n",
      "talk to you later\n",
      "Talk to you soon, Bobby!\n"
     ]
    }
   ],
   "source": [
    "nlp = spacy.load(\"en_core_web_sm\")\n",
    "\n",
    "lemmatizer = WordNetLemmatizer()\n",
    "\n",
    "intents = json.loads(open('intents-sch.json').read())\n",
    "\n",
    "words = pickle.load(open('words.pkl', 'rb'))\n",
    "\n",
    "classes = pickle.load(open('classes.pkl', 'rb'))\n",
    "\n",
    "userName = [\"user\"]\n",
    "\n",
    "model = load_model('chatbot.h5')\n",
    "\n",
    "def clean_up_sentence(sentence):\n",
    "    sentence_words = nltk.word_tokenize(sentence)\n",
    "    sentence_words = [lemmatizer.lemmatize(word) for word in sentence_words]\n",
    "    return sentence_words\n",
    "\n",
    "def bag_of_words(sentence):\n",
    "    sentence_words = clean_up_sentence(sentence)\n",
    "    bag = [0] * len(words)\n",
    "    for w in sentence_words:\n",
    "        for i, word in enumerate(words):\n",
    "            if word == w:\n",
    "                bag[i] = 1\n",
    "    return np.array(bag)\n",
    "\n",
    "def predict_class(sentence):\n",
    "    bow = bag_of_words(sentence)\n",
    "    res = model.predict(np.array([bow]))[0]\n",
    "    ERROR_THRESHOLD = 0.25\n",
    "    results = [[i, r] for i, r in enumerate(res) if r > ERROR_THRESHOLD]\n",
    "\n",
    "    results.sort(key=lambda x: x[1], reverse = True)\n",
    "    return_list = []\n",
    "    for r in results:\n",
    "        return_list.append({'intent': classes[r[0]], 'probability': str(r[1])})\n",
    "    return return_list\n",
    "\n",
    "def get_response(intents_list, intents_json, text):\n",
    "    endOfConvo = False\n",
    "    doc = nlp(text)\n",
    "    \n",
    "    labels = []\n",
    "    entities = []\n",
    "    tokens = word_tokenize(message)\n",
    "    for ent in doc.ents:\n",
    "        labels.append(ent.label_)\n",
    "        entities.append(ent.text)\n",
    "    index_name = -1\n",
    "    \n",
    "    tag = intents_list[0]['intent']\n",
    "    list_of_intents = intents_json['intents']\n",
    "    result = \" \"\n",
    "    for i in list_of_intents:\n",
    "        if i['tag'] == tag:\n",
    "            if (i['tag'] == 'greeting'):\n",
    "                result = random.choice(i[\"responses\"])\n",
    "                break\n",
    "            if (i['tag'] == 'goodbye'):\n",
    "                endOfConvo = True\n",
    "                result = (random.choice(i['responses']) % userName[0])\n",
    "                break\n",
    "            if (i['tag'] == 'name'):\n",
    "                if \"PERSON\" in labels:\n",
    "#                     print(\"Index: \" + str(labels.index(\"PERSON\")))\n",
    "                    index_name = labels.index(\"PERSON\")\n",
    "                userName[0] = str(entities[index_name])\n",
    "                result = (random.choice(i['responses']) % userName[0])\n",
    "                break\n",
    "            if (i['tag'] == 'schedule'):\n",
    "                times = []\n",
    "                getValues = []\n",
    "                if \"DATE\" in labels:\n",
    "#                     print(\"Index: \" + str(labels.index(\"DATE\")))\n",
    "                    index_name = labels.index(\"DATE\")\n",
    "                day = str(entities[index_name])\n",
    "                date = get_date(text.lower())\n",
    "                if date:\n",
    "                    times.append(get_events(date,users[0]))\n",
    "                    times.append(get_events(date,users[1]))\n",
    "#                     find_time(timesBounds, times)\n",
    "#                     print(times)\n",
    "                else:\n",
    "                    speak(\"what do you mean by that?\")\n",
    "                result = \"\"\n",
    "                break\n",
    "    return result, endOfConvo\n",
    "\n",
    "speak(\"Hello there!\")\n",
    "while True:\n",
    "    text = get_audio()\n",
    "    text = re.sub(r'[^\\w\\s]', '', text)\n",
    "    textReg = text\n",
    "    \n",
    "    text = text.lower()\n",
    "    \n",
    "    message = text\n",
    "    \n",
    "    doc = nlp(text)\n",
    "    \n",
    "    ints = predict_class(text)\n",
    "    res, endOfConvo = get_response(ints, intents, textReg)\n",
    "    speak(str(res))\n",
    "    print(str(res))\n",
    "    if endOfConvo: \n",
    "        break"
   ]
  },
  {
   "cell_type": "code",
   "execution_count": 187,
   "id": "cd939585",
   "metadata": {},
   "outputs": [],
   "source": [
    "# def find_time(bounds, times):\n",
    "#     freeHrs = []\n",
    "#     for i in times:\n",
    "#         userTime = []\n",
    "#         for j in i:\n",
    "#             hrs = []\n",
    "#             for a in j:\n",
    "#                 print(a.split(\":\"))\n",
    "#                 hrs.append(a.split(\":\"))\n",
    "#             userTime.append(hrs)\n",
    "#         freeHrs.append(userTime)\n",
    "#     print(freeHrs)\n",
    "#     mins = []\n",
    "#     inc = 0\n",
    "#     for i in range(len(freeHrs)):\n",
    "#         for j in range(i):\n",
    "#             for a in range(j):\n",
    "#                 freeHrs[i][j][a] = int(freeHrs[i][j][a])\n",
    "#                 min = freeHrs[i][j][a][0] * 60\n",
    "#                 min = min + freeHrs[i][j][a][0]\n",
    "#                 print(\"min: \" + min)\n",
    "#                 mins.append(min)\n",
    "#                 inc = inc + 1\n",
    "#     print(mins)\n",
    "    "
   ]
  }
 ],
 "metadata": {
  "kernelspec": {
   "display_name": "Python 3",
   "language": "python",
   "name": "python3"
  },
  "language_info": {
   "codemirror_mode": {
    "name": "ipython",
    "version": 3
   },
   "file_extension": ".py",
   "mimetype": "text/x-python",
   "name": "python",
   "nbconvert_exporter": "python",
   "pygments_lexer": "ipython3",
   "version": "3.7.10"
  }
 },
 "nbformat": 4,
 "nbformat_minor": 5
}
